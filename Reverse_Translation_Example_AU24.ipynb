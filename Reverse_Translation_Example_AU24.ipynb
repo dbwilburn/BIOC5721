{
  "nbformat": 4,
  "nbformat_minor": 0,
  "metadata": {
    "colab": {
      "provenance": [],
      "authorship_tag": "ABX9TyMWIEQEBhnbw9CuGHu9jcuA",
      "include_colab_link": true
    },
    "kernelspec": {
      "name": "python3",
      "display_name": "Python 3"
    },
    "language_info": {
      "name": "python"
    }
  },
  "cells": [
    {
      "cell_type": "markdown",
      "metadata": {
        "id": "view-in-github",
        "colab_type": "text"
      },
      "source": [
        "<a href=\"https://colab.research.google.com/github/dbwilburn/BIOC5721/blob/main/Reverse_Translation_Example_AU24.ipynb\" target=\"_parent\"><img src=\"https://colab.research.google.com/assets/colab-badge.svg\" alt=\"Open In Colab\"/></a>"
      ]
    },
    {
      "cell_type": "markdown",
      "source": [
        "## Reverse Translation Example\n",
        "### by DBW 8/28/24\n",
        "\n",
        "This notebook includes test code that was generated using Microsoft CoPilot to randomly generate a DNA sequence that codes for a provided protein sequence (only works for the 20 common amino acids)."
      ],
      "metadata": {
        "id": "q0VAbTS-6B-f"
      }
    },
    {
      "cell_type": "code",
      "execution_count": 1,
      "metadata": {
        "colab": {
          "base_uri": "https://localhost:8080/"
        },
        "id": "UJBA_M4BsKwH",
        "outputId": "c10cca77-590c-4862-c7e3-496d5d251d89"
      },
      "outputs": [
        {
          "output_type": "stream",
          "name": "stdout",
          "text": [
            "ATGTCCACA\n"
          ]
        }
      ],
      "source": [
        "import random\n",
        "\n",
        "# Dictionary mapping amino acids to their possible codons\n",
        "aa_to_codons = {\n",
        "    \"F\": [\"TTT\", \"TTC\"],\n",
        "    \"L\": [\"TTA\", \"TTG\", \"CTT\", \"CTC\", \"CTA\", \"CTG\"],\n",
        "    \"S\": [\"TCT\", \"TCC\", \"TCA\", \"TCG\", \"AGT\", \"AGC\"],\n",
        "    \"Y\": [\"TAT\", \"TAC\"],\n",
        "    \".\": [\"TAA\", \"TAG\", \"TGA\"],\n",
        "    \"C\": [\"TGT\", \"TGC\"],\n",
        "    \"W\": [\"TGG\"],\n",
        "    \"P\": [\"CCT\", \"CCC\", \"CCA\", \"CCG\"],\n",
        "    \"H\": [\"CAT\", \"CAC\"],\n",
        "    \"Q\": [\"CAA\", \"CAG\"],\n",
        "    \"R\": [\"CGT\", \"CGC\", \"CGA\", \"CGG\", \"AGA\", \"AGG\"],\n",
        "    \"I\": [\"ATT\", \"ATC\", \"ATA\"],\n",
        "    \"M\": [\"ATG\"],\n",
        "    \"T\": [\"ACT\", \"ACC\", \"ACA\", \"ACG\"],\n",
        "    \"N\": [\"AAT\", \"AAC\"],\n",
        "    \"K\": [\"AAA\", \"AAG\"],\n",
        "    \"V\": [\"GTT\", \"GTC\", \"GTA\", \"GTG\"],\n",
        "    \"A\": [\"GCT\", \"GCC\", \"GCA\", \"GCG\"],\n",
        "    \"D\": [\"GAT\", \"GAC\"],\n",
        "    \"E\": [\"GAA\", \"GAG\"],\n",
        "    \"G\": [\"GGT\", \"GGC\", \"GGA\", \"GGG\"]\n",
        "}\n",
        "\n",
        "def generate_dna_sequence(amino_acids):\n",
        "    dna_sequence = \"\"\n",
        "    for aa in amino_acids:\n",
        "        if aa in aa_to_codons:\n",
        "            codon = random.choice(aa_to_codons[aa])\n",
        "            dna_sequence += codon\n",
        "        else:\n",
        "            raise ValueError(f\"Invalid amino acid: {aa}\")\n",
        "    return dna_sequence\n",
        "\n",
        "# Example usage\n",
        "protein = \"MST\"\n",
        "dna_sequence = generate_dna_sequence(protein)\n",
        "print(dna_sequence)"
      ]
    },
    {
      "cell_type": "code",
      "source": [
        "new_protein = 'MY.NAME.IS.DAMIEN.'\n",
        "new_dna = generate_dna_sequence(new_protein)\n",
        "print(new_dna)"
      ],
      "metadata": {
        "colab": {
          "base_uri": "https://localhost:8080/"
        },
        "id": "CIpE6lmasLk1",
        "outputId": "6e77fd09-b4d4-46ad-ab50-09feed8c73d2"
      },
      "execution_count": 2,
      "outputs": [
        {
          "output_type": "stream",
          "name": "stdout",
          "text": [
            "ATGTACTAAAACGCTATGGAGTAAATTAGCTAAGATGCGATGATTGAAAATTAA\n"
          ]
        }
      ]
    },
    {
      "cell_type": "code",
      "source": [],
      "metadata": {
        "id": "v_HkeNaEsTJE"
      },
      "execution_count": 2,
      "outputs": []
    },
    {
      "cell_type": "code",
      "source": [],
      "metadata": {
        "id": "kgd5auQu6q-k"
      },
      "execution_count": null,
      "outputs": []
    }
  ]
}